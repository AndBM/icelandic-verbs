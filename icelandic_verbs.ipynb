{
 "cells": [
  {
   "cell_type": "code",
   "execution_count": null,
   "metadata": {},
   "outputs": [],
   "source": [
    "import json\n",
    "import matplotlib.pyplot as plt\n",
    "\n",
    "with open('icelandic_verb_conjugations.json','r') as file:\n",
    "    verb_dict = json.load(file)"
   ]
  },
  {
   "cell_type": "code",
   "execution_count": null,
   "metadata": {},
   "outputs": [],
   "source": [
    "# Count the conjugations\n",
    "counts = []\n",
    "unique_conjugations = set(verb_dict['conjugations'])\n",
    "main_conjugations = ['fallstjórn: engin','fallstjórn: þolfall','fallstjórn: þágufall','fallstjórn: eignarfall','fallstjórn: nefnifall']\n",
    "\n",
    "for conj in unique_conjugations:\n",
    "    counts += [[conj, verb_dict['conjugations'].count(conj)]]\n",
    "\n",
    "plot_data = []\n",
    "for conjugation in main_conjugations:\n",
    "    for c in counts:\n",
    "        if c[0] == conjugation:\n",
    "            plot_data += [c]\n",
    "            counts.remove(c)\n",
    "\n",
    "mix_count = 0\n",
    "for c in counts:\n",
    "    mix_count += c[1]\n",
    "\n",
    "plot_data += [['mix',mix_count]]\n",
    "print(plot_data)"
   ]
  },
  {
   "cell_type": "markdown",
   "metadata": {},
   "source": [
    "We ignore the single nefnifall for the pie charts."
   ]
  },
  {
   "cell_type": "code",
   "execution_count": null,
   "metadata": {},
   "outputs": [],
   "source": [
    "fig, ax = plt.subplots(figsize=(8,8))\n",
    "\n",
    "sizes = [x[1] for x in plot_data]\n",
    "sizes.sort(reverse=True)\n",
    "sizes = sizes[:-1] # Remove nefnifall\n",
    "\n",
    "labels = ['none: ','þf: ','þgf: ','mix: ','ef: ']\n",
    "labels = [x+str(round(100*y/len(verb_dict['flids']),1))+'%' for x,y in zip(labels,sizes)]\n",
    "\n",
    "ax.pie(sizes, labels=labels, textprops={'fontsize':14})\n",
    "\n",
    "fig.set_facecolor('white')\n",
    "plt.title('Icelandic verb conjugations, N = '+str(len(verb_dict['flids'])),fontsize=18)\n",
    "plt.text(0.4,-1.15,'Source: islex.arnastofnun.is',fontsize=13)\n",
    "plt.show()"
   ]
  },
  {
   "cell_type": "code",
   "execution_count": null,
   "metadata": {},
   "outputs": [],
   "source": [
    "# Remove \"none\"\n",
    "plot_data2 = plot_data.copy()\n",
    "plot_data2.pop(0) \n",
    "verbs_with_conjugations = len(verb_dict['flids']) - plot_data[0][1]"
   ]
  },
  {
   "cell_type": "code",
   "execution_count": null,
   "metadata": {},
   "outputs": [],
   "source": [
    "fig, ax = plt.subplots(figsize=(8,8))\n",
    "\n",
    "sizes = [x[1] for x in plot_data2]\n",
    "sizes.sort(reverse=True)\n",
    "sizes = sizes[:-1]\n",
    "\n",
    "labels = ['þf: ','þgf: ','mix: ','ef: ']\n",
    "labels = [x+str(round(100*y/verbs_with_conjugations,1))+'%' for x,y in zip(labels,sizes)]\n",
    "\n",
    "ax.pie(sizes, labels=labels, textprops={'fontsize':14})\n",
    "\n",
    "fig.set_facecolor('white')\n",
    "plt.title('Icelandic verb conjugations (ignoring \"none\"), N = '+str(verbs_with_conjugations),fontsize=18)\n",
    "plt.text(0.4,-1.15,'Source: islex.arnastofnun.is',fontsize=13)\n",
    "plt.show()"
   ]
  }
 ],
 "metadata": {
  "kernelspec": {
   "display_name": "base",
   "language": "python",
   "name": "python3"
  },
  "language_info": {
   "codemirror_mode": {
    "name": "ipython",
    "version": 3
   },
   "file_extension": ".py",
   "mimetype": "text/x-python",
   "name": "python",
   "nbconvert_exporter": "python",
   "pygments_lexer": "ipython3",
   "version": "3.9.12"
  },
  "orig_nbformat": 4
 },
 "nbformat": 4,
 "nbformat_minor": 2
}
