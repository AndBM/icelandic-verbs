{
 "cells": [
  {
   "cell_type": "code",
   "execution_count": null,
   "metadata": {},
   "outputs": [],
   "source": [
    "import json\n",
    "import matplotlib.pyplot as plt\n",
    "\n",
    "with open('icelandic_verb_conjugations.json','r') as file:\n",
    "    verb_dict = json.load(file)"
   ]
  },
  {
   "cell_type": "code",
   "execution_count": null,
   "metadata": {},
   "outputs": [],
   "source": [
    "counts = []\n",
    "unique_conjugations = set(verb_dict['conjugations'])\n",
    "main_conjugations = ['fallstjórn: þolfall','fallstjórn: þágufall','fallstjórn: eignarfall','fallstjórn: nefnifall']\n",
    "\n",
    "for conj in unique_conjugations:\n",
    "    counts += [[conj, verb_dict['conjugations'].count(conj)]]\n",
    "\n",
    "plot_data = []\n",
    "mix_count = 0\n",
    "for c in counts:\n",
    "    if c[0] not in main_conjugations:\n",
    "        mix_count += c[1]\n",
    "    else:\n",
    "        plot_data += [c]\n",
    "\n",
    "plot_data += [['mix',mix_count]]"
   ]
  },
  {
   "cell_type": "code",
   "execution_count": null,
   "metadata": {},
   "outputs": [],
   "source": [
    "fig, ax = plt.subplots(figsize=(8,8))\n",
    "sizes = [x[1] for x in plot_data]\n",
    "sizes.sort(reverse=True)\n",
    "\n",
    "# Ignore the single nefnifall for the plot\n",
    "sizes = sizes[:-1]\n",
    "labels = ['þf: ','þgf: ','mix: ','ef: ']\n",
    "labels = [x+str(round(100*y/len(verb_dict['flids']),1))+'%' for x,y in zip(labels,sizes)]\n",
    "ax.pie(sizes, labels=labels, textprops={'fontsize':14})\n",
    "fig.set_facecolor('white')\n",
    "plt.title('Icelandic verb conjugations, N = '+str(len(verb_dict['flids'])),fontsize=18)\n",
    "plt.text(0.4,-1.15,'Source: islex.arnastofnun.is',fontsize=13)\n",
    "plt.show()"
   ]
  }
 ],
 "metadata": {
  "kernelspec": {
   "display_name": "base",
   "language": "python",
   "name": "python3"
  },
  "language_info": {
   "codemirror_mode": {
    "name": "ipython",
    "version": 3
   },
   "file_extension": ".py",
   "mimetype": "text/x-python",
   "name": "python",
   "nbconvert_exporter": "python",
   "pygments_lexer": "ipython3",
   "version": "3.9.12"
  },
  "orig_nbformat": 4
 },
 "nbformat": 4,
 "nbformat_minor": 2
}
